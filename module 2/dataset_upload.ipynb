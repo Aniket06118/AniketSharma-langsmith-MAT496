{
 "cells": [
  {
   "cell_type": "markdown",
   "metadata": {},
   "source": [
    "# Dataset Upload"
   ]
  },
  {
   "cell_type": "markdown",
   "metadata": {},
   "source": [
    "In addition to creating and editing Datasets in the LangSmith UI, you can also create and edit datasets with the LangSmith SDK."
   ]
  },
  {
   "cell_type": "markdown",
   "metadata": {},
   "source": [
    "Let's go ahead an upload a list of examples that we have from our RAG application to LangSmith as a new dataset."
   ]
  },
  {
   "cell_type": "code",
   "execution_count": null,
   "metadata": {},
   "outputs": [],
   "source": []
  },
  {
   "cell_type": "code",
   "execution_count": 1,
   "metadata": {},
   "outputs": [
    {
     "data": {
      "text/plain": [
       "True"
      ]
     },
     "execution_count": 1,
     "metadata": {},
     "output_type": "execute_result"
    }
   ],
   "source": [
    "# Or you can use a .env file\n",
    "from dotenv import load_dotenv\n",
    "load_dotenv()"
   ]
  },
  {
   "cell_type": "code",
   "execution_count": 3,
   "metadata": {},
   "outputs": [
    {
     "data": {
      "text/plain": [
       "{'example_ids': ['cdb6d768-b430-48bf-a485-48c55a763b42',\n",
       "  '04aa4c07-5d24-4490-a7c4-8e09ef25e80a',\n",
       "  '57a5acce-5f1f-4782-b2be-9a937cf8c6c8',\n",
       "  'f768e0f0-59c2-489c-a50b-e09c95676860',\n",
       "  '9fc2962e-f684-45ca-b434-a074baf285b6',\n",
       "  '6c446f23-555f-4a1a-8b61-effa53c7ef03',\n",
       "  'e48c0a4e-0682-408f-963f-bcdbf2a9dd89',\n",
       "  '2f890f7f-43f0-4bb2-970c-ac0b6a9dfdb1',\n",
       "  '74b25ca2-6d98-498c-a4dc-0f1d86a81a4c',\n",
       "  '2663b15a-ad8b-438c-b49b-4729c4c51bf4'],\n",
       " 'count': 10}"
      ]
     },
     "execution_count": 3,
     "metadata": {},
     "output_type": "execute_result"
    }
   ],
   "source": [
    "from langsmith import Client\n",
    "\n",
    "example_inputs = [\n",
    "(\"How do I set up tracing to LangSmith if I'm using LangChain?\", \"To set up tracing to LangSmith while using LangChain, you need to set the environment variable `LANGSMITH_TRACING` to 'true'. Additionally, you must set the `LANGSMITH_API_KEY` environment variable to your API key. By default, traces will be logged to a project named \\\"default.\\\"\"),\n",
    "(\"How can I trace with the @traceable decorator?\", \"To trace with the @traceable decorator in Python, simply decorate any function you want to log traces for by adding `@traceable` above the function definition. Ensure that the LANGSMITH_TRACING environment variable is set to 'true' to enable tracing, and also set the LANGSMITH_API_KEY environment variable with your API key. By default, traces will be logged to a project named \\\"default,\\\" but you can configure it to log to a different project if needed.\"),\n",
    "(\"How do I pass metadata in with @traceable?\", \"You can pass metadata with the @traceable decorator by specifying arbitrary key-value pairs as arguments. This allows you to associate additional information, such as the execution environment or user details, with your traces. For more detailed instructions, refer to the LangSmith documentation on adding metadata and tags.\"),\n",
    "(\"What is LangSmith used for in three sentences?\", \"LangSmith is a platform designed for the development, monitoring, and testing of LLM applications. It enables users to collect and analyze unstructured data, debug issues, and create datasets for testing and evaluation. The tool supports various workflows throughout the application development lifecycle, enhancing the overall performance and reliability of LLM applications.\"),\n",
    "(\"What testing capabilities does LangSmith have?\", \"LangSmith offers capabilities for creating datasets of inputs and reference outputs to run tests on LLM applications, supporting a test-driven approach. It allows for bulk uploads of test cases, on-the-fly creation, and exporting from application traces. Additionally, LangSmith facilitates custom evaluations to score test results, enhancing the testing process.\"),\n",
    "(\"Does LangSmith support online evaluation?\", \"Yes, LangSmith supports online evaluation as a feature. It allows you to configure a sample of runs from production to be evaluated, providing feedback on those runs. You can use either custom code or an LLM as a judge for the evaluations.\"),\n",
    "(\"Does LangSmith support offline evaluation?\", \"Yes, LangSmith supports offline evaluation through its evaluation how-to guides and features for managing datasets. Users can manage datasets for offline evaluations and run various types of evaluations, including unit testing and auto-evaluation. This allows for comprehensive testing and improvement of LLM applications.\"),\n",
    "(\"Can LangSmith be used for finetuning and model training?\", \"Yes, LangSmith can be used for fine-tuning and model training. It allows you to capture run traces from your deployment, query and filter this data, and convert it into a format suitable for fine-tuning models. Additionally, you can create training datasets to keep track of the data used for model training.\"),\n",
    "(\"Can LangSmith be used to evaluate agents?\", \"Yes, LangSmith can be used to evaluate agents. It provides various evaluation strategies, including assessing the agent's final response, evaluating individual steps, and analyzing the trajectory of tool calls. These methods help ensure the effectiveness of LLM applications.\"),\n",
    "(\"How do I create user feedback with the LangSmith sdk?\", \"To create user feedback with the LangSmith SDK, you first need to run your application and obtain the `run_id`. Then, you can use the `create_feedback` method, providing the `run_id`, a feedback key, a score, and an optional comment. For example, in Python, it would look like this: `client.create_feedback(run_id, key=\\\"feedback-key\\\", score=1.0, comment=\\\"comment\\\")`.\"),\n",
    "]\n",
    "\n",
    "client = Client()\n",
    "dataset_id = \"d7ceceb9-90d2-4db6-b6fb-0de6687d9b74\"\n",
    "\n",
    "# Prepare inputs and outputs for bulk creation\n",
    "inputs = [{\"question\": input_prompt} for input_prompt, _ in example_inputs]\n",
    "outputs = [{\"output\": output_answer} for _, output_answer in example_inputs]\n",
    "\n",
    "client.create_examples(\n",
    "  inputs=inputs,\n",
    "  outputs=outputs,\n",
    "  dataset_id=dataset_id,\n",
    ")"
   ]
  },
  {
   "cell_type": "code",
   "execution_count": 6,
   "metadata": {},
   "outputs": [
    {
     "data": {
      "text/plain": [
       "{'example_ids': ['d86afc5d-fee3-44f2-bf16-3150426969c8',\n",
       "  'aa473cdc-c45c-496f-95df-164d4d147a75',\n",
       "  '13723608-b863-4919-8e1e-6e952ed9bd2d',\n",
       "  '173b7232-3c61-423a-b545-c5487a283486',\n",
       "  '4aedaa19-b6da-4c70-b5f5-88a4b5b428de',\n",
       "  '861bbbf4-b757-4ce1-bf5c-90a377f5fce7',\n",
       "  'a8ecf3e2-14b0-4b2d-a6bc-9a9b52643239',\n",
       "  '1a107389-f744-4862-b67a-7817163ffa12',\n",
       "  '3822a362-4d1b-4737-bea0-099f6d68b637',\n",
       "  '0986f241-604d-47a1-ae9c-c71984dc67f0'],\n",
       " 'count': 10}"
      ]
     },
     "execution_count": 6,
     "metadata": {},
     "output_type": "execute_result"
    }
   ],
   "source": [
    "from langsmith import Client\n",
    "import os\n",
    "\n",
    "example_inputs = [\n",
    "(\"How can I apply for college admission?\", \"You can apply for college admission through the university’s official website or common application portals by submitting your personal details, academic records, and required documents.\"),\n",
    "(\"What documents are needed for college admission?\", \"Typically, you need your high school transcripts, ID proof, passport-size photographs, and any entrance exam scorecards.\"),\n",
    "(\"Is there an entrance exam for admission?\", \"Some colleges require entrance exams, while others admit students based on merit or standardized test scores.\"),\n",
    "(\"When do college admissions usually start?\", \"Most college admissions in India start between May and July, but exact dates vary by university.\"),\n",
    "(\"Can I apply to multiple colleges at once?\", \"Yes, you can apply to multiple colleges as long as you meet their individual eligibility criteria and deadlines.\"),\n",
    "(\"How can I check my admission status?\", \"After applying, you can log into the university portal or check your registered email for updates about your application status.\"),\n",
    "(\"What should I do after getting selected?\", \"Once selected, you need to confirm your admission by paying the admission fee and submitting the required documents within the given deadline.\"),\n",
    "(\"Can international students apply for admission?\", \"Yes, most universities have a separate process for international students, often requiring additional documents like a passport and English proficiency scores.\"),\n",
    "(\"What happens if I miss the application deadline?\", \"If you miss the deadline, you may have to wait for the next admission cycle or apply under a late-admission policy if available.\"),\n",
    "(\"Who should I contact for admission-related queries?\", \"You can contact the university’s admission office or the helpdesk mentioned on their official website for any admission-related queries.\"),\n",
    "]\n",
    "\n",
    "client = Client()\n",
    "dataset_id = \"d7ceceb9-90d2-4db6-b6fb-0de6687d9b74\"\n",
    "\n",
    "inputs = [{\"question\": input_prompt} for input_prompt, _ in example_inputs]\n",
    "outputs = [{\"output\": output_answer} for _, output_answer in example_inputs]\n",
    "\n",
    "client.create_examples(\n",
    "  inputs=inputs,\n",
    "  outputs=outputs,\n",
    "  dataset_id=dataset_id,\n",
    ")\n",
    "\n"
   ]
  },
  {
   "cell_type": "markdown",
   "metadata": {},
   "source": [
    "## Submitting another Trace"
   ]
  },
  {
   "cell_type": "markdown",
   "metadata": {},
   "source": [
    "I've moved our RAG application definition to `app.py` so we can quickly import it."
   ]
  },
  {
   "cell_type": "code",
   "execution_count": 6,
   "metadata": {},
   "outputs": [],
   "source": [
    "from app import langsmith_rag"
   ]
  },
  {
   "cell_type": "markdown",
   "metadata": {},
   "source": [
    "Let's ask another question to create a new trace!"
   ]
  },
  {
   "cell_type": "code",
   "execution_count": 7,
   "metadata": {},
   "outputs": [
    {
     "data": {
      "text/plain": [
       "'To set up tracing to LangSmith using LangChain, ensure that your LangSmith instance is running and configured properly. You will need to integrate the LangChain tracer or LangSmith SDK in your application, passing the necessary hostname to submit traces. For detailed setup instructions, refer to the self-hosted usage guide provided by LangSmith.'"
      ]
     },
     "execution_count": 7,
     "metadata": {},
     "output_type": "execute_result"
    }
   ],
   "source": [
    "question = \"How do I set up tracing to LangSmith if I'm using LangChain?\"\n",
    "langsmith_rag(question)"
   ]
  },
  {
   "cell_type": "code",
   "execution_count": 8,
   "metadata": {},
   "outputs": [],
   "source": [
    "from langsmith import Client\n",
    "\n",
    "client = Client()\n",
    "dataset_id = \"d7ceceb9-90d2-4db6-b6fb-0de6687d9b74\"\n",
    "\n",
    "examples = client.list_examples(dataset_id=dataset_id)\n",
    "\n",
    "question = \"What documents do I need to register for ICPC?\"\n",
    "\n",
    "for ex in examples:\n",
    "    input_data = ex.inputs  \n",
    "    if question.lower() in input_data.get(\"question\", \"\").lower():\n",
    "        output_data = ex.outputs  \n",
    "        print(output_data.get(\"output\", \"No answer found\"))\n",
    "        break\n"
   ]
  },
  {
   "cell_type": "code",
   "execution_count": null,
   "metadata": {},
   "outputs": [],
   "source": []
  },
  {
   "cell_type": "code",
   "execution_count": null,
   "metadata": {},
   "outputs": [],
   "source": []
  }
 ],
 "metadata": {
  "kernelspec": {
   "display_name": "Python 3 (ipykernel)",
   "language": "python",
   "name": "python3"
  },
  "language_info": {
   "codemirror_mode": {
    "name": "ipython",
    "version": 3
   },
   "file_extension": ".py",
   "mimetype": "text/x-python",
   "name": "python",
   "nbconvert_exporter": "python",
   "pygments_lexer": "ipython3",
   "version": "3.12.5"
  }
 },
 "nbformat": 4,
 "nbformat_minor": 4
}
